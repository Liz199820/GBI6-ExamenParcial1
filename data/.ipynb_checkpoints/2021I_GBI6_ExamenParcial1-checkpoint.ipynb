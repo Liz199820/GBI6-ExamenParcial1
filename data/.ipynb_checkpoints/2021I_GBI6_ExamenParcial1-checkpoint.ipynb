{
 "cells": [
  {
   "cell_type": "markdown",
   "metadata": {},
   "source": [
    "<img src=\"https://www.ikiam.edu.ec/img/logo-ikiam-grey.png\" width=300 height=240 />\n",
    "\n",
    "# EXAMEN PARCIAL 1\n",
    "\n",
    "## GBI6-2021II: BIOINFORMÁTICA\n",
    "\n",
    "REALIZADO POR: LIZETH ESTEFANIA GARCIA SALAZAR\n",
    "\n",
    "FECHA: 11-01-2021"
   ]
  },
  {
   "cell_type": "markdown",
   "metadata": {},
   "source": [
    "<font color='red'>NO AGREGUE NUEVAS CELDAS, UTILICE ÚNICAMENTE LAS QUE ESTÁN CREADAS</font>"
   ]
  },
  {
   "cell_type": "markdown",
   "metadata": {},
   "source": [
    "# 1. UNIX\n",
    "\n",
    "## Ejercicio 1\n",
    "Seleccione la opción el código que imprime el texto: Hola GBI6\n",
    "\n",
    "<img src=\"./Ejercicio1.png\" width=590 height=155 />\n",
    "\n",
    "\n",
    "-Lo que se utilizó para resolver este ejercicio fue la instrucción echo, ya que esta imprime la frase que necesitemos decir.\n",
    "\n",
    "## Ejercicio 2\n",
    "Para esta pregunta debe realizar previamente lo siguiente: \n",
    "\n",
    "1.Imprimir el directorio de trabajo actual \n",
    "\n",
    "2.Crear un directorio test1\n",
    "\n",
    "3.No cambie de directorio, pero los items 4, 5 y 6 deben guardarse en el directorio creado en el paso 2. \n",
    "\n",
    "4.Crear el archivo test1.txt\n",
    "\n",
    "5.Guardar el texto Hola GBI6 en un archivo test2.txt\n",
    "\n",
    "6.Guardar la instrucción print(\"Hola GBI6\")  en el archivo test1.py\n",
    "\n",
    "Luego seleccione la instrucción que agregue el texto El examen parcial de GBI6 es hoy al archivo test2.txt sin reemplazar y imprima el contenido en la consola.\n",
    "\n",
    "<img src=\"./Ejercicio2p1.png\" width=838 height=420 />\n",
    "<img src=\"./Ejercicio2p2.png\" width=838 height=420 />\n",
    "\n",
    "Explicación: Para imprimir el directorio de trabajo actual se usó \"pwd\", seguido se creó el directorio \"test1\", con el comando mkdir, luego cree el archivo test1.txt con el comando \"touch\", en el 5to paso con el comando \"echo\" guradé la frase en test2.txt además aquí utilicé \">\" este símbolo nos ayuda a guarfdar el archivo en test2.txt. Bueno, seguido se colocó print (Hola GBI6) en un archivo test1.py. En la siguiente línea se agregó un nuevo texto al archivo test2.txt con los simbolos >> se pudo reemplazar e imprimir. Finalmente utilizando el comando \"cat\" se pudo observar lel contneido en los archivos.\n",
    "\n",
    "## Ejercicio 3\n",
    "Para esta pregunta debe realizar previamente lo siguiente: \n",
    "\n",
    "1.Imprimir el directorio de trabajo actual \n",
    "\n",
    "2.Crear un directorio test1\n",
    "\n",
    "3.No cambie de directorio, pero los items 4, 5 y 6 deben guardarse en el directorio creado en el paso 2. \n",
    "\n",
    "4.Crear el archivo test1.txt\n",
    "\n",
    "5.Guardar el texto Hola GBI6 en un archivo test2.txt\n",
    "\n",
    "6.Guardar la instrucción print(\"Hola GBI6\")  en el archivo test1.py\n",
    "\n",
    "7.Luego seleccione la instrucción que copie test2.txt al directorio test2/subtest1\n",
    "\n",
    "\n",
    "<img src=\"./Ejercicio3.png\" width=600 height=450 />\n",
    "\n",
    "Escriba aquí alguna explicación del ejercicio 3 si lo considera necesario (borre esta línea cuando finalice)\n",
    "\n",
    "## Ejercicio 4\n",
    "\n",
    "Resuelva el ejercicio 1.10.2 Hormone Levels in Baboons. \n",
    "\n",
    "Resuelva el ejercicio en un documento de nombre ejercicio_1102.sh\n",
    "Cargue el documento ejercicio_1102.sh en GitHub utilizando git push. \n",
    "Realice el video explicativo de la resolución ejercicio y guarde en YouTube en formato \"Público\" o \"Unlisted\", y pegue el enlace en el cuaderno de Jupyter.\n"
   ]
  },
  {
   "cell_type": "code",
   "execution_count": 7,
   "metadata": {},
   "outputs": [
    {
     "data": {
      "text/html": [
       "<iframe width=\"560\" height=\"315\" src=\"https://www.youtube.com/embed/9ck5iEP03g4\" title=\"YouTube video player\" frameborder=\"0\" allow=\"accelerometer; autoplay; clipboard-write; encrypted-media; gyroscope; picture-in-picture\" allowfullscreen></iframe>"
      ],
      "text/plain": [
       "<IPython.core.display.HTML object>"
      ]
     },
     "execution_count": 7,
     "metadata": {},
     "output_type": "execute_result"
    }
   ],
   "source": [
    "# Coloque aquí su video del ejercicio 4\n",
    "from IPython.display import HTML\n",
    "HTML('<iframe width=\"560\" height=\"315\" src=\"https://www.youtube.com/embed/9ck5iEP03g4\" title=\"YouTube video player\" frameborder=\"0\" allow=\"accelerometer; autoplay; clipboard-write; encrypted-media; gyroscope; picture-in-picture\" allowfullscreen></iframe>')\n"
   ]
  },
  {
   "cell_type": "markdown",
   "metadata": {},
   "source": [
    "Escriba aquí alguna explicación del ejercicio 4 si lo considera necesario (borre esta línea cuando finalice)\n",
    "\n",
    "## Ejercicio 5\n",
    "\n",
    "Resuelva el ejercicio 1.10.1 Next Generation Sequencing Data. \n",
    "\n",
    "Resuelva el ejercicio en un documento de nombre ejercicio_1101.sh\n",
    "Cargue el documento ejercicio_1101.sh en GitHub utilizando git push. \n",
    "Realice el video explicativo de la resolución ejercicio y guarde en YouTube en formato \"Público\" o \"Unlisted\", y pegue el enlace en el cuaderno de Jupyter.\n"
   ]
  },
  {
   "cell_type": "code",
   "execution_count": 5,
   "metadata": {},
   "outputs": [
    {
     "data": {
      "text/html": [
       "<iframe width=\"560\" height=\"315\" src=\"https://www.youtube.com/embed/3XlZWpLwvvo\" title=\"YouTube video player\" frameborder=\"0\" allow=\"accelerometer; autoplay; clipboard-write; encrypted-media; gyroscope; picture-in-picture\" allowfullscreen></iframe>"
      ],
      "text/plain": [
       "<IPython.core.display.HTML object>"
      ]
     },
     "execution_count": 5,
     "metadata": {},
     "output_type": "execute_result"
    }
   ],
   "source": [
    "# Coloque aquí su video del ejercicio 5\n",
    "from IPython.display import HTML\n",
    "HTML('<iframe width=\"560\" height=\"315\" src=\"https://www.youtube.com/embed/3XlZWpLwvvo\" title=\"YouTube video player\" frameborder=\"0\" allow=\"accelerometer; autoplay; clipboard-write; encrypted-media; gyroscope; picture-in-picture\" allowfullscreen></iframe>')\n"
   ]
  },
  {
   "cell_type": "markdown",
   "metadata": {
    "jp-MarkdownHeadingCollapsed": true,
    "tags": []
   },
   "source": [
    "Escriba aquí alguna explicación del ejercicio 5 si lo considera necesario (borre esta línea cuando finalice)\n",
    "\n",
    "# 2. CONTROL DE LA VERSIÓN\n",
    "## Pregunta 6\n",
    "1. Cree en GitHub un repositorio de nombre ```GBI6_ExamenParcial1```. \n",
    "2. Cree un archivo ```Readme.md``` que debe tener lo siguiente: \n",
    "- Datos personales\n",
    "- Características del computador\n",
    "- Programas utilizados\n",
    "- Explicación de la data utilizada\n",
    "\n",
    "\n",
    "## Pregunta 7\n",
    "1. Cada vez que resuelva un ejercicio (del 1 al 10), utilizando Git Bash, GitHub Desktop o Atom realice un *git push* con el mensaje: \n",
    "\n",
    "\n",
    "<font color='red'>Apellido Nombre ha resuelto el ejercicio 1</font> % Cambie con sus apellidos y nombres; y con el número de ejercicio que corresponda \n",
    "\n",
    "2. Coloque aquí las capturas de pantalla para cada git push realizado desde Git Bash, GitHub Desktop o Atom. \n",
    "\n",
    "- Control de versión ejercicio 1\n",
    "\n",
    "<img src=\"./Ejercicio1controldeversion.png\" width=600 height=450 />\n",
    "\n",
    "\n",
    "- Control de versión ejercicio 2\n",
    "\n",
    "<img src=\"./Ejercicio2controldeversion.png\" width=600 height=450 />\n",
    "\n",
    "- Control de versión ejercicio 3\n",
    "\n",
    "<img src=\"./Ejercicio3controldeversion.png\" width=600 height=450 />\n",
    "\n",
    "- Control de versión ejercicio 4\n",
    "\n",
    "<img src=\"./Ejercicio4controldeversion.png\" width=600 height=450 />\n",
    "\n",
    "- Control de versión ejercicio 5\n",
    "\n",
    "<img src=\"./Ejercicio5controldeversion.png\" width=600 height=450 />\n",
    "\n",
    "- Control de versión ejercicio 8\n",
    "\n",
    "<img src=\"./Ejercicio8controldeversion.png\" width=600 height=450 />\n",
    "\n",
    "- Control de versión ejercicio 9\n",
    "\n",
    "<img src=\"./Ejercicio9controldeversion.png\" width=600 height=450 />\n",
    "\n",
    "- Control de versión ejercicio 10\n",
    "\n",
    "<img src=\"./Ejercicio10controldeversion.png\" width=600 height=450 />\n",
    "\n",
    "\n",
    "3. Cree un directorio de nombre ```data``` donde deben estar guardados: (i) la data utilizada y (ii) las capturas de pantalla de los ejercicios 1 al 3 y los git push del ejercicio 1 al 10 (en total debe tener 13 imágenes). \n",
    "4. Inserte aquí el enlace de su repositorio (válido para el ejercicio 6 y 7): [GitHub Repository: GBI6_ExamenParcial1](https://github.com/gualapuromoises/2021_gbi6.git) (este enlace es de ejemplo)"
   ]
  },
  {
   "cell_type": "markdown",
   "metadata": {},
   "source": [
    "# 3. INTRODUCCIÓN A PYTHON\n",
    "\n",
    "## Ejercicio 8\n",
    "\n",
    "Para este ejercicio debe debe realizar lo siguiente:\n",
    "\n",
    "Crear un diccionario de nombre dic_aminoacidos, donde se tenga la información de la tabla que se encuentra en http://www.russelllab.org/aas/aas.html. \n",
    "Utilice como \"key\" los valores de la columna \"AA\" y las columnas \"Hits\" y \"%Abundance\" como \"values\". \n",
    "Luego de crear el diccionario, extraiga los valores de \"key\" a una lista de nombre \"aminoacidos\"\n",
    "Extraiga los valores de \"value\" a una lista de nombre \"propiedades\""
   ]
  },
  {
   "cell_type": "code",
   "execution_count": 3,
   "metadata": {},
   "outputs": [
    {
     "name": "stdout",
     "output_type": "stream",
     "text": [
      "{'Trp': (1550, 1.34), 'Cys': (1905, 1.76), 'His': (1695, 2.26), 'Arg': (3093, 5.2), 'Met': (1102, 5.2), 'Tyr': (1525, 3.25), 'Gln': (1830, 3.96), 'Phe': (1616, 4.12), 'Asp': (1691, 5.12), 'Pro': (1598, 5.0), 'Ala': (2018, 7.34), 'Asn': (1103, 4.57), 'Lys': (1366, 5.81), 'Glu': (1471, 6.22), 'Gly': (1386, 6.89), 'Thr': (1147, 5.85), 'Val': (1225, 6.48), 'Ile': (1033, 5.76), 'Ser': (1206, 7.38), 'Leu': (1127, 9.36)}\n",
      "[dict_keys(['Trp', 'Cys', 'His', 'Arg', 'Met', 'Tyr', 'Gln', 'Phe', 'Asp', 'Pro', 'Ala', 'Asn', 'Lys', 'Glu', 'Gly', 'Thr', 'Val', 'Ile', 'Ser', 'Leu'])]\n",
      "[dict_values([(1550, 1.34), (1905, 1.76), (1695, 2.26), (3093, 5.2), (1102, 5.2), (1525, 3.25), (1830, 3.96), (1616, 4.12), (1691, 5.12), (1598, 5.0), (2018, 7.34), (1103, 4.57), (1366, 5.81), (1471, 6.22), (1386, 6.89), (1147, 5.85), (1225, 6.48), (1033, 5.76), (1206, 7.38), (1127, 9.36)])]\n"
     ]
    }
   ],
   "source": [
    "dic_aminoacidos = {}\n",
    "dic_aminoacidos[\"Trp\"] = 1550, 1.34\n",
    "dic_aminoacidos[\"Cys\"] = 1905, 1.76\n",
    "dic_aminoacidos[\"His\"] = 1695, 2.26\n",
    "dic_aminoacidos[\"Arg\"] = 3093, 5.20\n",
    "dic_aminoacidos[\"Met\"] = 1102, 5.20\n",
    "dic_aminoacidos[\"Tyr\"] = 1525, 3.25\n",
    "dic_aminoacidos[\"Gln\"] = 1830, 3.96\n",
    "dic_aminoacidos[\"Phe\"] = 1616, 4.12\n",
    "dic_aminoacidos[\"Asp\"] = 1691, 5.12\n",
    "dic_aminoacidos[\"Pro\"] = 1598, 5.00\n",
    "dic_aminoacidos[\"Ala\"] = 2018, 7.34\n",
    "dic_aminoacidos[\"Asn\"] = 1103, 4.57\n",
    "dic_aminoacidos[\"Lys\"] = 1366, 5.81\n",
    "dic_aminoacidos[\"Glu\"] = 1471, 6.22\n",
    "dic_aminoacidos[\"Gly\"] = 1386, 6.89\n",
    "dic_aminoacidos[\"Thr\"] = 1147, 5.85\n",
    "dic_aminoacidos[\"Val\"] = 1225, 6.48\n",
    "dic_aminoacidos[\"Ile\"] = 1033, 5.76\n",
    "dic_aminoacidos[\"Ser\"] = 1206, 7.38\n",
    "dic_aminoacidos[\"Leu\"] = 1127, 9.36\n",
    "\n",
    "print(dic_aminoacidos)\n",
    "\n",
    "aminoacidos = [dic_aminoacidos.keys()]\n",
    "\n",
    "print(aminoacidos)\n",
    "\n",
    "propiedades = [dic_aminoacidos.values()]\n",
    "\n",
    "print(propiedades)\n",
    "\n"
   ]
  },
  {
   "cell_type": "markdown",
   "metadata": {},
   "source": [
    "## Ejercicio 9\n",
    "\n",
    "Para este ejercicio tiene que crear previamente lo siguiente: \n",
    "\n",
    "Una lista de nombre lista1 que tenga a las 10 primeras letras del alfabeto."
   ]
  },
  {
   "cell_type": "code",
   "execution_count": 10,
   "metadata": {},
   "outputs": [
    {
     "name": "stdout",
     "output_type": "stream",
     "text": [
      "['a', 'b', 'c', 'd', 'e', 'f', 'g', 'h', 'i', 'j']\n"
     ]
    },
    {
     "data": {
      "text/plain": [
       "11"
      ]
     },
     "execution_count": 10,
     "metadata": {},
     "output_type": "execute_result"
    }
   ],
   "source": [
    "lista1 = [\"a\", \"b\", \"c\", \"d\", \"e\", \"f\", \"g\", \"h\", \"i\", \"j\"]\n",
    "\n",
    "print(lista1)\n",
    "\n",
    "#lista1.append([\"gbi6\", \"bio1\", \"ikiam\"])\n",
    "#lista1[-1][-1]\n",
    "\n",
    "#lista1[3]\n",
    "\n",
    "#lista1[2:5]\n",
    "\n",
    "lista1.append([\"gbi6\", \"bio1\", \"ikiam\"])\n",
    "len(lista1)\n"
   ]
  },
  {
   "cell_type": "markdown",
   "metadata": {},
   "source": [
    "## Ejercicio 10\n",
    "\n",
    "Descargue la data \"SI Table 1\" (10080Table1.xls) de la página https://www.pnas.org/content/suppl/2006/12/27/0610080104.DC1. Esta data corresponde a algunas características de sueño de mamíferos. Seleccione los 10 primeros registros de la columna \"Total sleep time, hr\" y cree una lista de nombre lista1."
   ]
  },
  {
   "cell_type": "code",
   "execution_count": 20,
   "metadata": {},
   "outputs": [
    {
     "name": "stdout",
     "output_type": "stream",
     "text": [
      "[8.6, 18.0, 19.4, 13.7, 11.1, 10.1, 10.3, 15.6, 14.9, 9.1]\n"
     ]
    },
    {
     "data": {
      "text/plain": [
       "13.08"
      ]
     },
     "execution_count": 20,
     "metadata": {},
     "output_type": "execute_result"
    }
   ],
   "source": [
    "lista1 = [8.6, 18.0, 19.4, 13.7, 11.1, 10.1, 10.3, 15.6, 14.9, 9.1]\n",
    "print (lista1)\n",
    "\n",
    "#lista1[8:]\n",
    "\n",
    "#lista1[5]\n",
    "\n",
    "#lista1.append([\"gbi6\", \"bio1\", \"ikiam\"])\n",
    "\n",
    "#lista1[-1][2]\n",
    "\n",
    "#sum(lista1)/len(lista1)\n",
    "\n",
    "#lista1.extend([\"gbi6\", \"bio1\", \"ikiam\"])\n",
    "\n",
    "#len(lista1)\n",
    "\n",
    "round(sum(lista1)/len(lista1),3)"
   ]
  }
 ],
 "metadata": {
  "kernelspec": {
   "display_name": "Python 3",
   "language": "python",
   "name": "python3"
  },
  "language_info": {
   "codemirror_mode": {
    "name": "ipython",
    "version": 3
   },
   "file_extension": ".py",
   "mimetype": "text/x-python",
   "name": "python",
   "nbconvert_exporter": "python",
   "pygments_lexer": "ipython3",
   "version": "3.8.8"
  },
  "latex_envs": {
   "LaTeX_envs_menu_present": true,
   "autoclose": false,
   "autocomplete": true,
   "bibliofile": "biblio.bib",
   "cite_by": "apalike",
   "current_citInitial": 1,
   "eqLabelWithNumbers": true,
   "eqNumInitial": 1,
   "hotkeys": {
    "equation": "Ctrl-E",
    "itemize": "Ctrl-I"
   },
   "labels_anchors": false,
   "latex_user_defs": false,
   "report_style_numbering": false,
   "user_envs_cfg": false
  },
  "toc": {
   "base_numbering": 1,
   "nav_menu": {},
   "number_sections": true,
   "sideBar": false,
   "skip_h1_title": false,
   "title_cell": "Table of Contents",
   "title_sidebar": "Contents",
   "toc_cell": false,
   "toc_position": {
    "height": "1152.67px",
    "left": "41px",
    "top": "110px",
    "width": "253.458px"
   },
   "toc_section_display": true,
   "toc_window_display": false
  },
  "varInspector": {
   "cols": {
    "lenName": 16,
    "lenType": 16,
    "lenVar": 40
   },
   "kernels_config": {
    "python": {
     "delete_cmd_postfix": "",
     "delete_cmd_prefix": "del ",
     "library": "var_list.py",
     "varRefreshCmd": "print(var_dic_list())"
    },
    "r": {
     "delete_cmd_postfix": ") ",
     "delete_cmd_prefix": "rm(",
     "library": "var_list.r",
     "varRefreshCmd": "cat(var_dic_list()) "
    }
   },
   "types_to_exclude": [
    "module",
    "function",
    "builtin_function_or_method",
    "instance",
    "_Feature"
   ],
   "window_display": false
  }
 },
 "nbformat": 4,
 "nbformat_minor": 4
}
